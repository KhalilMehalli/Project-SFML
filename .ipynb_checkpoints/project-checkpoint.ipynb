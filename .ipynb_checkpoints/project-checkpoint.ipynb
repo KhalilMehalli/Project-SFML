{
 "cells": [
  {
   "cell_type": "code",
   "execution_count": 10,
   "id": "17578f83-f52e-47ee-9d73-b33d910722dd",
   "metadata": {},
   "outputs": [],
   "source": [
    "import numpy as np\n",
    "from numpy.lib.stride_tricks import sliding_window_view\n"
   ]
  },
  {
   "cell_type": "code",
   "execution_count": 7,
   "id": "31ae6158-83fc-4039-ad35-4168b9fed8ab",
   "metadata": {},
   "outputs": [],
   "source": [
    "X_guided = np.load(\"./guided/guided_dataset_X.npy\")\n",
    "Y_guided = np.load(\"./guided/guided_dataset_y.npy\")\n",
    "testset = np.load(\"./guided/guided_testset_X.npy\")\n"
   ]
  },
  {
   "cell_type": "code",
   "execution_count": 8,
   "id": "f5d74e88-bad4-4a00-9cdf-b5b5b1f6cfe0",
   "metadata": {},
   "outputs": [
    {
     "name": "stdout",
     "output_type": "stream",
     "text": [
      "(5, 332, 8, 500)\n",
      "(5, 8, 230000)\n",
      "(5, 51, 230000)\n"
     ]
    }
   ],
   "source": [
    "print(testset.shape)\n",
    "print(X_guided.shape)\n",
    "print(Y_guided.shape)"
   ]
  },
  {
   "cell_type": "markdown",
   "id": "4a29437e-9e32-45e1-a305-0bfad39af254",
   "metadata": {},
   "source": [
    "#### Question 1"
   ]
  },
  {
   "cell_type": "code",
   "execution_count": 9,
   "id": "4331fabb-bc67-49c5-8d18-9572b5dc3e52",
   "metadata": {},
   "outputs": [],
   "source": [
    "from scipy.signal import butter, filtfilt, firwin"
   ]
  },
  {
   "cell_type": "code",
   "execution_count": null,
   "id": "6bdf832f-16c7-4dbf-b0cc-43fc14aa64c1",
   "metadata": {},
   "outputs": [],
   "source": []
  },
  {
   "cell_type": "markdown",
   "id": "9f1dfcb3-48a7-4df1-80ec-79e5fd3bd630",
   "metadata": {},
   "source": [
    "#### Question 2\n",
    "\n",
    "For this question, we decided to use the sliding_window_view function from the Numpy library for several reasons:\n",
    "\n",
    "-Numpy functions are built in C, making them faster than implementing a double loop in Python.\n",
    "\n",
    "-The sliding_window_view function creates a view of the array rather than copying the data, minimizing memory usage.\n",
    "\n",
    "-The function simplifies the implementation by automating window creation and indexing."
   ]
  },
  {
   "cell_type": "code",
   "execution_count": 16,
   "id": "f74676a2-d393-4e44-98ce-48190ed197a3",
   "metadata": {},
   "outputs": [
    {
     "name": "stdout",
     "output_type": "stream",
     "text": [
      "(5, 8, 229501, 500)\n",
      "(5, 51, 229501, 500)\n",
      "(5, 8, 919, 500)\n",
      "(5, 51, 919, 500)\n",
      "(5, 919, 8, 500)\n",
      "(5, 919, 51, 500)\n",
      "[[  1.0986581   -8.41673625  -4.84972558 ...  -1.76873947  -6.56577493\n",
      "  -10.88819442]\n",
      " [ 12.21837735  15.3262705    4.77276143 ...  -3.94538397  -5.50181954\n",
      "   -7.3692657 ]\n",
      " [ -1.02035145   2.75337535 -18.0932997  ...  -9.69223461 -21.23125079\n",
      "   -6.27851702]\n",
      " ...\n",
      " [ -4.18208003  -8.56125167  -3.20060061 ... -22.45992589 -95.24715478\n",
      "  -53.12527546]\n",
      " [-14.74996522 -16.58254728 -10.64747431 ...  -1.2357502  -12.37910359\n",
      "   -1.52116206]\n",
      " [-11.45309457 -12.52041445   2.03051126 ...   1.56962661   1.08560054\n",
      "   -2.22653059]]\n",
      "[[  1.0986581   -8.41673625  -4.84972558 ...  -1.76873947  -6.56577493\n",
      "  -10.88819442]\n",
      " [ 12.21837735  15.3262705    4.77276143 ...  -3.94538397  -5.50181954\n",
      "   -7.3692657 ]\n",
      " [ -1.02035145   2.75337535 -18.0932997  ...  -9.69223461 -21.23125079\n",
      "   -6.27851702]\n",
      " ...\n",
      " [ -4.18208003  -8.56125167  -3.20060061 ... -22.45992589 -95.24715478\n",
      "  -53.12527546]\n",
      " [-14.74996522 -16.58254728 -10.64747431 ...  -1.2357502  -12.37910359\n",
      "   -1.52116206]\n",
      " [-11.45309457 -12.52041445   2.03051126 ...   1.56962661   1.08560054\n",
      "   -2.22653059]]\n"
     ]
    }
   ],
   "source": [
    "def create_overlap_windows(x,y,window_size, axis,overlap):\n",
    "\n",
    "    step = int(window_size * (1 - overlap))\n",
    "\n",
    "    # sliding_windows_view Generate all possible windows with the corresponding step, that not what we want.\n",
    "    x_w = sliding_window_view(x,window_size,axis)\n",
    "    y_w = sliding_window_view(y,window_size,axis)\n",
    "\n",
    "    print(x_w.shape)\n",
    "    print(y_w.shape)\n",
    "\n",
    "    # We only keep the windows where the step is a multiple of our step \n",
    "    x_w = x_w[:,:,::step,:]\n",
    "    y_w = y_w[:,:,::step,:]\n",
    "\n",
    "    print(x_w.shape)\n",
    "    print(y_w.shape)\n",
    "\n",
    "    # We transpose the axes windows and electrode/signal \n",
    "    x_w = x_w.transpose(0, 2, 1, 3)     #  (session, window, electrode, time) and not  (session, electrode, window, time)\n",
    "    y_w = y_w.transpose(0, 2, 1, 3) \n",
    "    \n",
    "    print(x_w.shape)\n",
    "    print(y_w.shape)\n",
    "\n",
    "\n",
    "    return x_w, y_w\n",
    "\n",
    "x_windows,y_windows = create_overlap_windows(X_guided,Y_guided,500,2,0.5)\n",
    "\n",
    "\n",
    "print(x_w[0,0,:,250:])\n",
    "print(x_w[0,1,:,:250])\n"
   ]
  },
  {
   "cell_type": "markdown",
   "id": "8efa6666-9c5a-422c-8c26-79b8f6594316",
   "metadata": {},
   "source": [
    "#### Question 3\n",
    "\n",
    "For this question, we have thought about various methods of cross validation. First, our data are continous because it's a signal, so preserving temporal structure is important. We can’t use a method of cross validation which randomly shuffles our windows. \n",
    "\n",
    "We also need to prevents data leaking so we can't use a methode who use the windows of one session for training AND validation because we have overlapping data in each session, two windows in the same session can share the same datas, and if these two windows are in train and validation, it will lead to data leakage and overly optimistic performance (data in the train set will also be in the validation set). \n",
    "\n",
    "So it's naturally that we have chosen the \"Leave One Group Out\" method, this method will use each session as the validation set once and the other for training. We completly prevent data leakage because each session is indepandent from the other, and we reduce the bias because each session will be used for validation.\n",
    "\n",
    "In our case, \"LOGO\" and \"GroupKFold(5)\" produce the same splits, but we choose \"LOGO\" because it's more explicit, readers will immediatly see that we use one session for validation each time while \"GroupKFold\" need to have 5 in parameter to do the same thong"
   ]
  },
  {
   "cell_type": "code",
   "execution_count": 28,
   "id": "6d586a98-56d4-4372-a33f-01ba5ec537cf",
   "metadata": {},
   "outputs": [
    {
     "name": "stdout",
     "output_type": "stream",
     "text": [
      "5 919\n",
      "[1 1 1 ... 5 5 5]\n",
      "(4595,)\n"
     ]
    }
   ],
   "source": [
    "n_sessions = x_windows.shape[0]\n",
    "n_windows = x_windows.shape[1]\n",
    "print(n_sessions,n_windows)\n",
    "\n",
    "groups = np.repeat(np.arange(1,n_sessions+1),n_windows ) # 111 (919 times), 222 (919 times), ...\n",
    "print(groups)\n",
    "print(groups.shape)\n",
    "\n",
    "# We need to flatten the dataset x and y because the function logo (and latter \"croos_val_score\"\n",
    "# want all the data in a list form, we will know have for the dataset X for exemple.\n",
    "# [4595, 8, 500] and not [5,919,8,500], 4595 is the multiplication of 5 and 919,\n",
    "# Now all the windows are store in a list and the \"groups\" list above allow the function \n",
    "# logo to know at wich session each windows belong\n",
    "# The windows 3 for example (x_windows_flat[2]) belong to the sessions groups[2] = 1\n",
    "x_windows_flat = x_windows.reshape(n_sessions * n_windows, x_windows.shape[2], x_windows.shape[3])\n"
   ]
  },
  {
   "cell_type": "code",
   "execution_count": 12,
   "id": "07e1243c-045c-436b-85b1-725a43ead35f",
   "metadata": {},
   "outputs": [],
   "source": [
    "from sklearn.model_selection import LeaveOneGroupOut\n",
    "\n",
    "logo = LeaveOneGroupOut()"
   ]
  },
  {
   "cell_type": "code",
   "execution_count": null,
   "id": "ecd17ef4-108a-480b-aba8-33de84479a0a",
   "metadata": {},
   "outputs": [],
   "source": []
  }
 ],
 "metadata": {
  "kernelspec": {
   "display_name": "Python 3 (ipykernel)",
   "language": "python",
   "name": "python3"
  },
  "language_info": {
   "codemirror_mode": {
    "name": "ipython",
    "version": 3
   },
   "file_extension": ".py",
   "mimetype": "text/x-python",
   "name": "python",
   "nbconvert_exporter": "python",
   "pygments_lexer": "ipython3",
   "version": "3.12.8"
  }
 },
 "nbformat": 4,
 "nbformat_minor": 5
}
