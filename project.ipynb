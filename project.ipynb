{
 "cells": [
  {
   "cell_type": "code",
   "execution_count": 72,
   "id": "17578f83-f52e-47ee-9d73-b33d910722dd",
   "metadata": {},
   "outputs": [],
   "source": [
    "import numpy as np\n",
    "from numpy.lib.stride_tricks import sliding_window_view\n",
    "np.set_printoptions( threshold=3) # Just a function who limit the print size of a tab to the 3 first and 3 last data"
   ]
  },
  {
   "cell_type": "code",
   "execution_count": 73,
   "id": "31ae6158-83fc-4039-ad35-4168b9fed8ab",
   "metadata": {},
   "outputs": [],
   "source": [
    "x = np.load(\"./guided/guided_dataset_X.npy\")\n",
    "y = np.load(\"./guided/guided_dataset_y.npy\")\n",
    "testset = np.load(\"./guided/guided_testset_X.npy\")\n"
   ]
  },
  {
   "cell_type": "code",
   "execution_count": 74,
   "id": "f5d74e88-bad4-4a00-9cdf-b5b5b1f6cfe0",
   "metadata": {},
   "outputs": [
    {
     "name": "stdout",
     "output_type": "stream",
     "text": [
      "(5, 332, 8, 500)\n",
      "(5, 8, 230000)\n",
      "(5, 51, 230000)\n"
     ]
    }
   ],
   "source": [
    "print(testset.shape)\n",
    "print(x.shape)\n",
    "print(y.shape)\n"
   ]
  },
  {
   "cell_type": "markdown",
   "id": "4a29437e-9e32-45e1-a305-0bfad39af254",
   "metadata": {},
   "source": [
    "#### Question 1"
   ]
  },
  {
   "cell_type": "code",
   "execution_count": 66,
   "id": "4331fabb-bc67-49c5-8d18-9572b5dc3e52",
   "metadata": {},
   "outputs": [],
   "source": [
    "from scipy.signal import butter, sosfiltfilt, firwin"
   ]
  },
  {
   "cell_type": "code",
   "execution_count": 67,
   "id": "6bdf832f-16c7-4dbf-b0cc-43fc14aa64c1",
   "metadata": {},
   "outputs": [],
   "source": [
    "nyq  = 1024 / 2\n",
    "low  = 20  / nyq\n",
    "high = 450 / nyq\n",
    "\n",
    "sos = butter(4,[low,high], btype='band', output= 'sos')\n",
    "\n",
    "for sess in range(x.shape[0]):\n",
    "    for elec in range(x.shape[1]):\n",
    "        # Application of the filtrage for x\n",
    "        x[sess, elec, :] = sosfiltfilt(sos, x[sess, elec, :])"
   ]
  },
  {
   "cell_type": "markdown",
   "id": "9f1dfcb3-48a7-4df1-80ec-79e5fd3bd630",
   "metadata": {},
   "source": [
    "#### Question 2\n",
    "\n",
    "For this question, we decided to use the sliding_window_view function from the Numpy library for several reasons:\n",
    "\n",
    "-Numpy functions are built in C, making them faster than implementing a double loop in Python.\n",
    "\n",
    "-The sliding_window_view function creates a view of the array rather than copying the data, minimizing memory usage.\n",
    "\n",
    "-The function simplifies the implementation by automating window creation and indexing."
   ]
  },
  {
   "cell_type": "code",
   "execution_count": 75,
   "id": "f74676a2-d393-4e44-98ce-48190ed197a3",
   "metadata": {},
   "outputs": [
    {
     "name": "stdout",
     "output_type": "stream",
     "text": [
      "(5, 8, 229501, 500)\n",
      "(5, 51, 229501, 500)\n",
      "(5, 8, 919, 500)\n",
      "(5, 51, 919, 500)\n",
      "(5, 919, 8, 500)\n",
      "(5, 919, 51, 500)\n",
      "(5, 919, 51)\n",
      "250 last data in the 1st window/session 1\n",
      "[[  1.0986581   -8.41673625  -4.84972558 ...  -1.76873947  -6.56577493\n",
      "  -10.88819442]\n",
      " [ 12.21837735  15.3262705    4.77276143 ...  -3.94538397  -5.50181954\n",
      "   -7.3692657 ]\n",
      " [ -1.02035145   2.75337535 -18.0932997  ...  -9.69223461 -21.23125079\n",
      "   -6.27851702]\n",
      " ...\n",
      " [ -4.18208003  -8.56125167  -3.20060061 ... -22.45992589 -95.24715478\n",
      "  -53.12527546]\n",
      " [-14.74996522 -16.58254728 -10.64747431 ...  -1.2357502  -12.37910359\n",
      "   -1.52116206]\n",
      " [-11.45309457 -12.52041445   2.03051126 ...   1.56962661   1.08560054\n",
      "   -2.22653059]]\n",
      "250 first data in the  2st window/session 1\n",
      "[[  1.0986581   -8.41673625  -4.84972558 ...  -1.76873947  -6.56577493\n",
      "  -10.88819442]\n",
      " [ 12.21837735  15.3262705    4.77276143 ...  -3.94538397  -5.50181954\n",
      "   -7.3692657 ]\n",
      " [ -1.02035145   2.75337535 -18.0932997  ...  -9.69223461 -21.23125079\n",
      "   -6.27851702]\n",
      " ...\n",
      " [ -4.18208003  -8.56125167  -3.20060061 ... -22.45992589 -95.24715478\n",
      "  -53.12527546]\n",
      " [-14.74996522 -16.58254728 -10.64747431 ...  -1.2357502  -12.37910359\n",
      "   -1.52116206]\n",
      " [-11.45309457 -12.52041445   2.03051126 ...   1.56962661   1.08560054\n",
      "   -2.22653059]]\n",
      "We can see that 50% of the value are the same\n"
     ]
    }
   ],
   "source": [
    "def create_overlap_windows(x,y,window_size, axis,overlap):\n",
    "\n",
    "    step = int(window_size * (1 - overlap))\n",
    "\n",
    "    # sliding_windows_view Generate all possible windows with the corresponding step, that not what we want.\n",
    "    x_w = sliding_window_view(x,window_size,axis)\n",
    "    y_w = sliding_window_view(y,window_size,axis)\n",
    "\n",
    "    print(x_w.shape)\n",
    "    print(y_w.shape)\n",
    "\n",
    "    # We only keep the windows where the step is a multiple of our step \n",
    "    x_w = x_w[:,:,::step,:]\n",
    "    y_w = y_w[:,:,::step,:]\n",
    "\n",
    "    print(x_w.shape)\n",
    "    print(y_w.shape)\n",
    "\n",
    "    # We transpose the axes windows and electrode/signal \n",
    "    x_w = x_w.transpose(0, 2, 1, 3)     #  (session, window, electrode, time) and not  (session, electrode, window, time)\n",
    "    y_w = y_w.transpose(0, 2, 1, 3)     # (session, window, signals, time)\n",
    "    \n",
    "    print(x_w.shape)\n",
    "    print(y_w.shape)\n",
    "\n",
    "    # Finaly, we keep only the last hand position (targets) for y, because for this project\n",
    "    # we need to predict, for each window in x, the final hand position in the\n",
    "    # same windows in the dataset y\n",
    "    y_w = y_w[..., -1]                # (sessions, windows, targets)\n",
    "\n",
    "    print(y_w.shape)\n",
    "\n",
    "\n",
    "    return x_w, y_w\n",
    "\n",
    "x_windows,y_windows = create_overlap_windows(x,y,500,2,0.5)\n",
    "\n",
    "print(\"250 last data in the 1st window/session 1\")\n",
    "print(x_windows[0,0,:,250:])\n",
    "print(\"250 first data in the  2st window/session 1\")\n",
    "print(x_windows[0,1,:,:250])\n",
    "print(\"We can see that 50% of the value are the same\")\n"
   ]
  },
  {
   "cell_type": "markdown",
   "id": "8efa6666-9c5a-422c-8c26-79b8f6594316",
   "metadata": {},
   "source": [
    "#### Question 3\n",
    "\n",
    "For this question, we have thought about various methods of cross validation. First, our data are continous because it's a signal, so preserving temporal structure is important. We can’t use a method of cross validation which randomly shuffles our windows. \n",
    "\n",
    "We also need to prevents data leaking so we can't use a methode who use the windows of one session for training AND validation because we have overlapping data in each session, two windows in the same session can share the same datas, and if these two windows are in train and validation, it will lead to data leakage and overly optimistic performance (data in the train set will also be in the validation set). \n",
    "\n",
    "So it's naturally that we have chosen the \"Leave One Group Out\" method, this method will use each session as the validation set once and the other for training. We completly prevent data leakage because each session is indepandent from the other, and we reduce the bias because each session will be used for validation.\n",
    "\n",
    "In our case, \"LOGO\" and \"GroupKFold(5)\" produce the same splits, but we choose \"LOGO\" because it's more explicit, readers will immediatly see that we use one session for validation each time while \"GroupKFold\" need to have 5 in parameter to do the same thong"
   ]
  },
  {
   "cell_type": "code",
   "execution_count": 76,
   "id": "6d586a98-56d4-4372-a33f-01ba5ec537cf",
   "metadata": {},
   "outputs": [
    {
     "name": "stdout",
     "output_type": "stream",
     "text": [
      "(4595,)\n",
      "New shape of x: (4595, 4000)  and y: (4595, 51)\n"
     ]
    }
   ],
   "source": [
    "x_shape = x_windows.shape\n",
    "y_shape = y_windows.shape\n",
    "\n",
    "\n",
    "groups = np.repeat(np.arange(1,x_shape[0]+1),x_shape[1] ) # 111 (919 times), 222 (919 times), ...\n",
    "#print(groups)\n",
    "print(groups.shape)\n",
    "\n",
    "# We need to flatten the dataset x and y because the function logo (and latter \"croos_val_score\"\n",
    "# want all the data in a 2d list, we will know have  the dataset X for exemple.\n",
    "# [4595, 4000] and not [5,919,8,500], 4595 is the multiplication of 5 and 919 (3500 = 8*500), and y \n",
    "# [4595,51] and not [5,919,51].\n",
    "# Now all the windows are store in a list and the \"groups\" list above allow the function \n",
    "# logo to know at wich session each windows belong\n",
    "# The windows 3 for example (x_windows_flat[2]) belong to the sessions groups[2] = 1\n",
    "x_windows_flat = x_windows.reshape(x_shape[0] * x_shape[1], x_shape[2] * x_shape[3])\n",
    "y_windows_flat = y_windows.reshape(y_shape[0] * y_shape[1], y_shape[2])\n",
    "\n",
    "print(\"New shape of x:\", x_windows_flat.shape, \" and y:\", y_windows_flat.shape)\n",
    "# The dataset x kept the same data than in the start "
   ]
  },
  {
   "cell_type": "code",
   "execution_count": 77,
   "id": "92449bff-754d-4a5a-b2ca-d88385116328",
   "metadata": {},
   "outputs": [],
   "source": [
    "from sklearn.model_selection import LeaveOneGroupOut, cross_val_score\n",
    "from sklearn.metrics import make_scorer, mean_squared_error\n",
    "from sklearn.linear_model import Ridge\n"
   ]
  },
  {
   "cell_type": "code",
   "execution_count": 78,
   "id": "07e1243c-045c-436b-85b1-725a43ead35f",
   "metadata": {},
   "outputs": [
    {
     "name": "stdout",
     "output_type": "stream",
     "text": [
      "RMSE for each folder: [59.78330527 57.89521081 70.76477708 59.82600232 64.81092694]\n"
     ]
    }
   ],
   "source": [
    "logo = LeaveOneGroupOut()\n",
    "\n",
    "model = Ridge(); # the futur model \n",
    "\n",
    "rmse_scorer = make_scorer(\n",
    "    lambda y_true, y_pred: np.sqrt(mean_squared_error(y_true, y_pred)),\n",
    "    greater_is_better=False  # Score near 0 is better \n",
    ")\n",
    "\n",
    "# The cross_val_score function by sklearn will execute our cv and return a tab \n",
    "neg_rmse_scores = cross_val_score(\n",
    "    model,\n",
    "    x_windows_flat,\n",
    "    y_windows_flat,\n",
    "    groups=groups,\n",
    "    cv=logo,\n",
    "    scoring=rmse_scorer,\n",
    "    n_jobs=-1 # Use all the cpu active for doing the calcul in parralelisme \n",
    ")\n",
    "\n",
    "# Conversion of negatifs scores into positifs (convention of sklearn)\n",
    "rmse_scores = -neg_rmse_scores  \n",
    "print(\"RMSE for each folder:\", rmse_scores)"
   ]
  },
  {
   "cell_type": "markdown",
   "id": "a227521c-7448-457c-a7e0-07dfae27c1c1",
   "metadata": {},
   "source": [
    "We can see in the code below that every fold contains four sessions in the training set and one in the test set. The sessions are independent of one another, so the data is completely safe and we have no data leakage."
   ]
  },
  {
   "cell_type": "code",
   "execution_count": 79,
   "id": "ecd17ef4-108a-480b-aba8-33de84479a0a",
   "metadata": {},
   "outputs": [
    {
     "name": "stdout",
     "output_type": "stream",
     "text": [
      "Fold  1\n",
      "{np.int64(2), np.int64(3), np.int64(4), np.int64(5)}\n",
      "{np.int64(1)}\n",
      "Fold  2\n",
      "{np.int64(1), np.int64(3), np.int64(4), np.int64(5)}\n",
      "{np.int64(2)}\n",
      "Fold  3\n",
      "{np.int64(1), np.int64(2), np.int64(4), np.int64(5)}\n",
      "{np.int64(3)}\n",
      "Fold  4\n",
      "{np.int64(1), np.int64(2), np.int64(3), np.int64(5)}\n",
      "{np.int64(4)}\n",
      "Fold  5\n",
      "{np.int64(1), np.int64(2), np.int64(3), np.int64(4)}\n",
      "{np.int64(5)}\n"
     ]
    }
   ],
   "source": [
    "\n",
    "for fold, (train_i, test_i) in enumerate(logo.split(x_windows_flat, y_windows_flat, groups), start=1):\n",
    "    #print(\"Index of train set: \",train_i) # Index of all the windows in four session in x for the train set (3676 windows)\n",
    "    #print(\"Index of test set: \",test_i) # Index of all the windows in one session in x for the test set (919 windows)\n",
    "    train_groups = set(groups[train_i])\n",
    "    test_groups  = set(groups[test_i])\n",
    "\n",
    "    print(\"Fold \", fold)\n",
    "    print(train_groups)\n",
    "    print(test_groups)\n",
    "\n",
    "\n"
   ]
  },
  {
   "cell_type": "code",
   "execution_count": null,
   "id": "b101be54-9d2b-40e6-b41a-c679c1b553fe",
   "metadata": {},
   "outputs": [],
   "source": []
  }
 ],
 "metadata": {
  "kernelspec": {
   "display_name": "Python 3 (ipykernel)",
   "language": "python",
   "name": "python3"
  },
  "language_info": {
   "codemirror_mode": {
    "name": "ipython",
    "version": 3
   },
   "file_extension": ".py",
   "mimetype": "text/x-python",
   "name": "python",
   "nbconvert_exporter": "python",
   "pygments_lexer": "ipython3",
   "version": "3.12.8"
  }
 },
 "nbformat": 4,
 "nbformat_minor": 5
}
