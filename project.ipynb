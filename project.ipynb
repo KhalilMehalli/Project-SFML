{
 "cells": [
  {
   "cell_type": "code",
   "execution_count": 23,
   "id": "17578f83-f52e-47ee-9d73-b33d910722dd",
   "metadata": {},
   "outputs": [],
   "source": [
    "import numpy as np\n",
    "from numpy.lib.stride_tricks import sliding_window_view\n"
   ]
  },
  {
   "cell_type": "code",
   "execution_count": 56,
   "id": "31ae6158-83fc-4039-ad35-4168b9fed8ab",
   "metadata": {},
   "outputs": [],
   "source": [
    "X_guided = np.load(\"./guided/guided_dataset_X.npy\")\n",
    "Y_guided = np.load(\"./guided/guided_dataset_y.npy\")\n",
    "testset = np.load(\"./guided/guided_testset_X.npy\")\n"
   ]
  },
  {
   "cell_type": "code",
   "execution_count": 25,
   "id": "f5d74e88-bad4-4a00-9cdf-b5b5b1f6cfe0",
   "metadata": {},
   "outputs": [
    {
     "name": "stdout",
     "output_type": "stream",
     "text": [
      "(5, 332, 8, 500)\n",
      "(5, 8, 230000)\n",
      "(5, 51, 230000)\n"
     ]
    }
   ],
   "source": [
    "print(testset.shape)\n",
    "print(X_guided.shape)\n",
    "print(Y_guided.shape)"
   ]
  },
  {
   "cell_type": "markdown",
   "id": "9f1dfcb3-48a7-4df1-80ec-79e5fd3bd630",
   "metadata": {},
   "source": []
  },
  {
   "cell_type": "code",
   "execution_count": 71,
   "id": "f74676a2-d393-4e44-98ce-48190ed197a3",
   "metadata": {},
   "outputs": [
    {
     "name": "stdout",
     "output_type": "stream",
     "text": [
      "(5, 8, 229501, 500)\n",
      "(5, 51, 229501, 500)\n",
      "(5, 8, 919, 500)\n",
      "(5, 51, 919, 500)\n",
      "(5, 919, 8, 500)\n",
      "(5, 919, 51, 500)\n",
      "[[  1.0986581   -8.41673625  -4.84972558 ...  -1.76873947  -6.56577493\n",
      "  -10.88819442]\n",
      " [ 12.21837735  15.3262705    4.77276143 ...  -3.94538397  -5.50181954\n",
      "   -7.3692657 ]\n",
      " [ -1.02035145   2.75337535 -18.0932997  ...  -9.69223461 -21.23125079\n",
      "   -6.27851702]\n",
      " ...\n",
      " [ -4.18208003  -8.56125167  -3.20060061 ... -22.45992589 -95.24715478\n",
      "  -53.12527546]\n",
      " [-14.74996522 -16.58254728 -10.64747431 ...  -1.2357502  -12.37910359\n",
      "   -1.52116206]\n",
      " [-11.45309457 -12.52041445   2.03051126 ...   1.56962661   1.08560054\n",
      "   -2.22653059]]\n",
      "[[  1.0986581   -8.41673625  -4.84972558 ...  -1.76873947  -6.56577493\n",
      "  -10.88819442]\n",
      " [ 12.21837735  15.3262705    4.77276143 ...  -3.94538397  -5.50181954\n",
      "   -7.3692657 ]\n",
      " [ -1.02035145   2.75337535 -18.0932997  ...  -9.69223461 -21.23125079\n",
      "   -6.27851702]\n",
      " ...\n",
      " [ -4.18208003  -8.56125167  -3.20060061 ... -22.45992589 -95.24715478\n",
      "  -53.12527546]\n",
      " [-14.74996522 -16.58254728 -10.64747431 ...  -1.2357502  -12.37910359\n",
      "   -1.52116206]\n",
      " [-11.45309457 -12.52041445   2.03051126 ...   1.56962661   1.08560054\n",
      "   -2.22653059]]\n"
     ]
    }
   ],
   "source": [
    "def create_overlap_windows(x,y,window_size, axis,overlap):\n",
    "\n",
    "    step = int(window_size * (1 - overlap))\n",
    "\n",
    "    # Create windows of size=windows_size, sliding_windows_view will create all windows possible\n",
    "    # In our case, we need only the windows who are modulo the step \n",
    "    x_w = sliding_window_view(x,window_size,axis)\n",
    "    y_w = sliding_window_view(y,window_size,axis)\n",
    "\n",
    "    print(x_w.shape)\n",
    "    print(y_w.shape)\n",
    "\n",
    "    # We only keep the windows where the step is a multiple of our step \n",
    "    x_w = x_w[:,:,::step,:]\n",
    "    y_w = y_w[:,:,::step,:]\n",
    "\n",
    "    print(x_w.shape)\n",
    "    print(y_w.shape)\n",
    "\n",
    "    # We transpose the axes windows and electrode/signal \n",
    "    x_w = x_w.transpose(0, 2, 1, 3)     #  (session, window, electrode, time) and not  (session, electrode, window, time)\n",
    "    y_w = y_w.transpose(0, 2, 1, 3) \n",
    "    \n",
    "    print(x_w.shape)\n",
    "    print(y_w.shape)\n",
    "\n",
    "\n",
    "    return x_w\n",
    "\n",
    "\n",
    "\n",
    "\n",
    "\n",
    "\n",
    "x_w = create_overlap_windows(X_guided,Y_guided,500,2,0.5)\n",
    "\n",
    "print(x_w[0,0,:,250:])\n",
    "print(x_w[0,1,:,:250])\n"
   ]
  },
  {
   "cell_type": "code",
   "execution_count": null,
   "id": "6c3ab3d6-7585-4001-9d73-800125cddcce",
   "metadata": {},
   "outputs": [],
   "source": []
  }
 ],
 "metadata": {
  "kernelspec": {
   "display_name": "Python 3 (ipykernel)",
   "language": "python",
   "name": "python3"
  },
  "language_info": {
   "codemirror_mode": {
    "name": "ipython",
    "version": 3
   },
   "file_extension": ".py",
   "mimetype": "text/x-python",
   "name": "python",
   "nbconvert_exporter": "python",
   "pygments_lexer": "ipython3",
   "version": "3.12.8"
  }
 },
 "nbformat": 4,
 "nbformat_minor": 5
}
