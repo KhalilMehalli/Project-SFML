{
 "cells": [
  {
   "cell_type": "markdown",
   "id": "83db2eb7",
   "metadata": {},
   "source": [
    "# (INFO-F422) Statistical foundations of machine learning: Project 24-25\n",
    "\n",
    "description: regression task, predict continuous hand proshtesis movement through short time-windows hand pose (angles) from forearm electrode sensors. \n",
    "\n",
    "+ author 1\n",
    "+ author 2\n",
    "+ author 3"
   ]
  },
  {
   "cell_type": "markdown",
   "id": "49ceb2ca",
   "metadata": {},
   "source": [
    "___\n",
    "\n",
    "## Imports"
   ]
  },
  {
   "cell_type": "code",
   "execution_count": 20,
   "id": "114e0eb1",
   "metadata": {},
   "outputs": [],
   "source": [
    "# models\n",
    "from sklearn.linear_model import Ridge, LinearRegression\n",
    "from sklearn.tree import DecisionTreeRegressor\n",
    "from sklearn.ensemble import RandomForestRegressor\n",
    "from sklearn.neighbors import KNeighborsRegressor\n",
    "\n",
    "# model selection\n",
    "from sklearn.model_selection import LeaveOneGroupOut, cross_val_score, GridSearchCV\n",
    "from sklearn.metrics import make_scorer, mean_squared_error\n",
    "from sklearn.decomposition import PCA\n",
    "\n",
    "# preprocessing\n",
    "from sklearn.base import BaseEstimator, TransformerMixin\n",
    "from sklearn.pipeline import Pipeline, make_pipeline\n",
    "from sklearn.preprocessing import StandardScaler\n",
    "from sklearn.feature_selection import SelectFromModel\n",
    "\n",
    "# utils\n",
    "import pandas as pd\n",
    "import numpy as np\n",
    "import matplotlib.pyplot as plt\n",
    "import seaborn as sns\n",
    "from enum import Enum"
   ]
  },
  {
   "cell_type": "markdown",
   "id": "0f719d13",
   "metadata": {},
   "source": [
    "___\n",
    "\n",
    "## Data loading"
   ]
  },
  {
   "cell_type": "code",
   "execution_count": 5,
   "id": "15cf5833",
   "metadata": {},
   "outputs": [],
   "source": [
    "data_dir = \"data\"\n",
    "\n",
    "X_g_train = np.load(f\"{data_dir}/guided/guided_dataset_X.npy\")\n",
    "y_g_train = np.load(f\"{data_dir}/guided/guided_dataset_y.npy\")\n",
    "X_g_test = np.load(f\"{data_dir}/guided/guided_testset_X.npy\")\n",
    "\n",
    "X_f_train = np.load(f\"{data_dir}/freemoves/freemoves_dataset_X.npy\")\n",
    "y_f_train = np.load(f\"{data_dir}/freemoves/freemoves_dataset_y.npy\")\n",
    "X_f_test = np.load(f\"{data_dir}/freemoves/freemoves_testset_X.npy\")\n"
   ]
  },
  {
   "cell_type": "code",
   "execution_count": 6,
   "id": "1b8272a9",
   "metadata": {},
   "outputs": [
    {
     "name": "stdout",
     "output_type": "stream",
     "text": [
      "Guided:\n",
      "X_g_train (5, 8, 230000) / y_g_train(5, 51, 230000) / X_g_test(5, 332, 8, 500)\n",
      "\n",
      "Free moves:\n",
      "X_f_train(5, 8, 270000) / y_f_train(5, 51, 270000) / X_f_test(5, 308, 8, 500)\n"
     ]
    }
   ],
   "source": [
    "print(\"Guided:\")\n",
    "print(f\"X_g_train {X_g_train.shape} / y_g_train{y_g_train.shape} / X_g_test{X_g_test.shape}\\n\")\n",
    "print(\"Free moves:\")\n",
    "print(f\"X_f_train{X_f_train.shape} / y_f_train{y_f_train.shape} / X_f_test{X_f_test.shape}\")"
   ]
  },
  {
   "cell_type": "markdown",
   "id": "4e5c5584",
   "metadata": {},
   "source": [
    "___\n",
    "\n",
    "## Data preparation"
   ]
  },
  {
   "cell_type": "code",
   "execution_count": 7,
   "id": "1107294d",
   "metadata": {},
   "outputs": [],
   "source": [
    "class XWindowAugment(BaseEstimator, TransformerMixin):\n",
    "    \"\"\"\n",
    "    Augment X through overlapping windows\n",
    "    \"\"\"\n",
    "    \n",
    "    def __init__(self, window_size=500, overlap=0.5):\n",
    "        self.window_size = window_size\n",
    "        self.overlap = overlap\n",
    "    \n",
    "    def fit(self, X, y=None):\n",
    "        return self\n",
    "    \n",
    "    def transform(self, X, y=None):\n",
    "        axis = 2 # time\n",
    "        step = int(self.window_size * (1 - self.overlap))\n",
    "        \n",
    "        # sliding_windows_view Generate all possible windows with the corresponding step, that not what we want.\n",
    "        X_windows = np.lib.stride_tricks.sliding_window_view(X,self.window_size, axis)\n",
    "\n",
    "        # only keep windows where the step is a multiple of our step \n",
    "        X_windows = X_windows[:,:,::step,:]\n",
    "         \n",
    "        # (session, electrode, window, time) to (session, window, electrode, time)\n",
    "        X_windows = X_windows.transpose(0, 2, 1, 3) \n",
    "        \n",
    "        return X_windows   "
   ]
  },
  {
   "cell_type": "code",
   "execution_count": 8,
   "id": "eb29439f",
   "metadata": {},
   "outputs": [],
   "source": [
    "class yWindowAugment(BaseEstimator, TransformerMixin):\n",
    "    \"\"\"\n",
    "    + Augment y through overlapping windows \n",
    "    + Extract target of correspondoing windows\n",
    "    \"\"\"\n",
    "    \n",
    "    def __init__(self, window_size=500, overlap=0.5):\n",
    "        self.window_size = window_size\n",
    "        self.overlap = overlap\n",
    "    \n",
    "    def fit(self, y, X=None):\n",
    "        return self\n",
    "    \n",
    "    def transform(self, y, X=None):\n",
    "        axis = 2 # time\n",
    "        step = int(self.window_size * (1 - self.overlap))\n",
    "        \n",
    "        # ----- window augment -----\n",
    "        \n",
    "        # sliding_windows_view Generate all possible windows with the corresponding step, that not what we want.\n",
    "        y_windows = np.lib.stride_tricks.sliding_window_view(y,self.window_size, axis)\n",
    "\n",
    "        # only keep windows where the step is a multiple of our step \n",
    "        y_windows = y_windows[:,:,::step,:]\n",
    "         \n",
    "        # (session, angles, window, time) to (session, window, angles, time)\n",
    "        y_windows = y_windows.transpose(0, 2, 1, 3)     \n",
    "        \n",
    "        # ----- target extract -----\n",
    "        \n",
    "        y_windows = y_windows[:, :, :, -1] # keep last hand pose as window target\n",
    "        \n",
    "        return y_windows"
   ]
  },
  {
   "cell_type": "markdown",
   "id": "63b93a3c",
   "metadata": {},
   "source": [
    "Prepared data"
   ]
  },
  {
   "cell_type": "code",
   "execution_count": 9,
   "id": "3b67f295",
   "metadata": {},
   "outputs": [
    {
     "name": "stdout",
     "output_type": "stream",
     "text": [
      "Guided windowed:\n",
      "X_g_train_wdw (5, 919, 8, 500) / X_g_test (5, 332, 8, 500)\n",
      "y_g_train_wdw(5, 919, 51)\n"
     ]
    }
   ],
   "source": [
    "X_g_train_wdw = XWindowAugment().transform(X_g_train)\n",
    "y_g_train_wdw = yWindowAugment().transform(y_g_train)\n",
    "\n",
    "print(\"Guided windowed:\")\n",
    "print(f\"X_g_train_wdw {X_g_train_wdw.shape} / X_g_test {X_g_test.shape}\")\n",
    "print(f\"y_g_train_wdw{y_g_train_wdw.shape}\")"
   ]
  },
  {
   "cell_type": "markdown",
   "id": "9851d74b",
   "metadata": {},
   "source": [
    "___\n",
    "\n",
    "## Cross validation strategy\n",
    "\n",
    "strategy: session based Leave One Group Out\n",
    "\n",
    "+ no **window overlap leakage**\n",
    "+ avoids **session bias**: signal drift, sensors placements, ... "
   ]
  },
  {
   "cell_type": "code",
   "execution_count": 10,
   "id": "1e2944b6",
   "metadata": {},
   "outputs": [],
   "source": [
    "n_sessions, n_windows, n_electrodes, n_times = X_g_train_wdw.shape\n",
    "groups = np.repeat(np.arange(1,n_sessions+1), n_windows) # [1 ... 1], [2 ... 2], ..., [5 ...5] each group of lenght n_windows\n",
    "\n",
    "# loss functions\n",
    "def mse(y_true, y_hat):\n",
    "    return np.mean((y_true-y_hat)**2)\n",
    "def rmse(y_true, y_hat):\n",
    "    return np.sqrt(np.mean((y_true-y_hat)**2))\n",
    "def nmse(y_true, y_hat):\n",
    "    return np.mean((y_true-y_hat)**2)/np.std(y_true)**2\n",
    "\n",
    "# scorers\n",
    "rmse_scorer = make_scorer(rmse, greater_is_better=False)\n",
    "nmse_scorer = make_scorer(nmse, greater_is_better=False)\n",
    "\n",
    "# cv function \n",
    "logo = LeaveOneGroupOut()\n",
    "def logo_cv(X, y, model, scorer=rmse_scorer):\n",
    "    cv_scores = cross_val_score(model, X, y, groups=groups, cv=logo, scoring=scorer, n_jobs=-1)\n",
    "    return np.mean(-cv_scores)\n",
    "\n",
    "def _logo_cv(X, y, model):\n",
    "    cv_nmse = []\n",
    "    cv_rmse = []\n",
    "    for train_index, test_index in logo.split(X, y, groups):\n",
    "        X_tr, X_ts = X.iloc[train_index], X.iloc[test_index]\n",
    "        y_tr, y_ts = y[train_index], y[test_index]\n",
    "        \n",
    "        model.fit(X_tr, y_tr)\n",
    "        y_hat = model.predict(X_ts)\n",
    "        cv_nmse.append(nmse(y_ts, y_hat))\n",
    "        cv_rmse.append(rmse(y_ts, y_hat))\n",
    "        \n",
    "    return (np.mean(cv_rmse), np.mean(cv_nmse))"
   ]
  },
  {
   "cell_type": "markdown",
   "id": "da8800c8",
   "metadata": {},
   "source": [
    "___\n",
    "\n",
    "## Common time features extraction\n",
    "\n",
    "TODO: why ?\n",
    "\n",
    "+ Mean Absolute Value (MAV)\n",
    "+ Root Mean Square (RMS)\n",
    "+ Variance (VAR)\n",
    "+ Standard Deviation (STD)\n",
    "+ Zero Crossing (ZC)\n",
    "+ Myopulse Percentage Rate (MPR)"
   ]
  },
  {
   "cell_type": "code",
   "execution_count": 11,
   "id": "b8cab1ce",
   "metadata": {},
   "outputs": [],
   "source": [
    "class FeatureExtractor(BaseEstimator, TransformerMixin):\n",
    "    \"\"\"\n",
    "    Extracts common time-domain features, from numpy arrays into a dataframe (readability)\n",
    "    \"\"\"\n",
    "\n",
    "    def __init__(self, mpr_threshold=0.5):\n",
    "        self.mpr_threshold = mpr_threshold\n",
    "\n",
    "    def fit(self, X, y=None):\n",
    "        return self\n",
    "\n",
    "    def transform(self, X, y=None):        \n",
    "        # --- Feature extraction ---\n",
    "        feature_names = ['MAV', 'RMS', 'VAR', 'STD', 'ZC', 'MPR']\n",
    "        n_features = len(feature_names)\n",
    "        \n",
    "        n_sessions, n_windows, n_electrodes, n_times = X.shape\n",
    "        features = np.zeros((n_sessions * n_windows, n_electrodes * n_features))\n",
    "        \n",
    "        for s in range(n_sessions):\n",
    "            for w in range(n_windows):\n",
    "                i = s*n_windows + w # index in flattened contiguous windows samples 'form'\n",
    "                wdw_features = []\n",
    "                for e in range(n_electrodes):\n",
    "                    signal = X[s, w, e, :] # window signal\n",
    "                    \n",
    "                    mav = np.mean(np.abs(signal))\n",
    "                    rms = np.sqrt(np.mean(signal**2))\n",
    "                    var = np.var(signal)\n",
    "                    std = np.std(signal)\n",
    "                    zc = np.sum(np.diff(np.signbit(signal)).astype(int))\n",
    "                    mpr = np.mean(np.abs(signal) > self.mpr_threshold)    \n",
    "                    wdw_features.extend([mav, rms, var, std, zc, mpr])\n",
    "                \n",
    "                features[i, :] = wdw_features\n",
    "        \n",
    "        # --- to Dataframe ---            \n",
    "        column_names = [f\"elec{e}_{name}\" for e in range(n_electrodes) for name in feature_names]\n",
    "        df = pd.DataFrame(features, columns=column_names)\n",
    "        \n",
    "        return df"
   ]
  },
  {
   "cell_type": "code",
   "execution_count": 12,
   "id": "a193ff5d",
   "metadata": {},
   "outputs": [],
   "source": [
    "class TargetFlattener(BaseEstimator, TransformerMixin):\n",
    "    \"\"\"\n",
    "    Flatten feature set for sklearn usability\n",
    "    \"\"\"\n",
    "\n",
    "    def fit(self, y, X=None):\n",
    "        return self\n",
    "\n",
    "    def transform(self, y, X=None):      \n",
    "        \n",
    "        # -- Reshape --\n",
    "        n_sessions, n_windows, n_angles = y.shape\n",
    "        \n",
    "        # Reshape to (sessions*windows, angles)\n",
    "        y_flat = y.reshape(n_sessions * n_windows, n_angles)\n",
    "        \n",
    "        # n_vals = 3 # 3 'values' per joint angle\n",
    "        # column_names = [f\"angle{i}_{k}\" for i in range(0, n_angles, n_vals) for k in range(n_vals)]\n",
    "        \n",
    "        # df = pd.DataFrame(y_flat, columns=column_names)\n",
    "        \n",
    "        return y_flat"
   ]
  },
  {
   "cell_type": "markdown",
   "id": "f004b544",
   "metadata": {},
   "source": [
    "Preprocessed data "
   ]
  },
  {
   "cell_type": "code",
   "execution_count": 13,
   "id": "c053e838",
   "metadata": {},
   "outputs": [
    {
     "name": "stdout",
     "output_type": "stream",
     "text": [
      "Guided preprocessed:\n",
      "X_g_train_preproc (4595, 48)\n",
      "y_g_train_preproc(4595, 51)\n"
     ]
    }
   ],
   "source": [
    "X_g_train_preproc = FeatureExtractor().transform(X_g_train_wdw)\n",
    "y_g_train_preproc = TargetFlattener().transform(y_g_train_wdw)\n",
    "\n",
    "print(\"Guided preprocessed:\")\n",
    "print(f\"X_g_train_preproc {X_g_train_preproc.shape}\")\n",
    "print(f\"y_g_train_preproc{y_g_train_preproc.shape}\")\n"
   ]
  },
  {
   "cell_type": "markdown",
   "id": "b0a28dcf",
   "metadata": {},
   "source": [
    "___\n",
    "\n",
    "## Baselines\n",
    "\n",
    "1) Baseline exploration\n",
    "\n",
    "2) analyse feature importance\n",
    "\n",
    "3) final baseline model selection"
   ]
  },
  {
   "cell_type": "markdown",
   "id": "211ec66f",
   "metadata": {},
   "source": [
    "#### 1) Baseline 'exploration'\n",
    "\n",
    "+ try multiple baselines (different model families) to get a sense of data/model interaction, early signals of what models (assumptions) seems to work well on data\n",
    "+ establishes a (cv) benchmark that more complex models should beat.\n",
    "\n",
    "(default parametres - just get a sense of data/model interacton)\n",
    "\n",
    "__note__: no leakage from feature extraction being outside cross validation loop, since feature extraction operates at window level (window infromation only), so no information leaked."
   ]
  },
  {
   "cell_type": "code",
   "execution_count": 51,
   "id": "dbde0ae4",
   "metadata": {},
   "outputs": [
    {
     "data": {
      "text/html": [
       "<div>\n",
       "<style scoped>\n",
       "    .dataframe tbody tr th:only-of-type {\n",
       "        vertical-align: middle;\n",
       "    }\n",
       "\n",
       "    .dataframe tbody tr th {\n",
       "        vertical-align: top;\n",
       "    }\n",
       "\n",
       "    .dataframe thead th {\n",
       "        text-align: right;\n",
       "    }\n",
       "</style>\n",
       "<table border=\"1\" class=\"dataframe\">\n",
       "  <thead>\n",
       "    <tr style=\"text-align: right;\">\n",
       "      <th></th>\n",
       "      <th>RMSE</th>\n",
       "      <th>NMSE</th>\n",
       "    </tr>\n",
       "  </thead>\n",
       "  <tbody>\n",
       "    <tr>\n",
       "      <th>dummy_mean</th>\n",
       "      <td>14.259043</td>\n",
       "      <td>0.437812</td>\n",
       "    </tr>\n",
       "    <tr>\n",
       "      <th>OLS</th>\n",
       "      <td>7.248052</td>\n",
       "      <td>0.113622</td>\n",
       "    </tr>\n",
       "    <tr>\n",
       "      <th>random_forest</th>\n",
       "      <td>5.094033</td>\n",
       "      <td>0.056900</td>\n",
       "    </tr>\n",
       "  </tbody>\n",
       "</table>\n",
       "</div>"
      ],
      "text/plain": [
       "                    RMSE      NMSE\n",
       "dummy_mean     14.259043  0.437812\n",
       "OLS             7.248052  0.113622\n",
       "random_forest   5.094033  0.056900"
      ]
     },
     "execution_count": 51,
     "metadata": {},
     "output_type": "execute_result"
    }
   ],
   "source": [
    "cv_results_baselines = {}\n",
    "from sklearn.dummy import DummyRegressor\n",
    "baselines = {\n",
    "    'dummy_mean': DummyRegressor(strategy='mean'),\n",
    "    \"OLS\": LinearRegression(n_jobs=-1),\n",
    "    'random_forest': RandomForestRegressor(random_state=0, n_jobs=-1, n_estimators=10),\n",
    "}\n",
    "\n",
    "for name, model in baselines.items():\n",
    "    cv_rmse, cv_nmse = _logo_cv(X_g_train_preproc, y_g_train_preproc, model)\n",
    "    cv_results_baselines[name] = {\"RMSE\": cv_rmse, \"NMSE\": cv_nmse}\n",
    "\n",
    "baselines_cv_df = pd.DataFrame(cv_results_baselines).T\n",
    "baselines_cv_df"
   ]
  },
  {
   "cell_type": "code",
   "execution_count": 52,
   "id": "53c30fac",
   "metadata": {},
   "outputs": [],
   "source": [
    "# wont work with dummy mean anymore\n",
    "del baselines['dummy_mean']"
   ]
  },
  {
   "cell_type": "markdown",
   "id": "6dd20456",
   "metadata": {},
   "source": [
    "#### 2) Feature importance\n",
    "\n",
    "informative and will serve for feature selection"
   ]
  },
  {
   "cell_type": "markdown",
   "id": "147bbbfd",
   "metadata": {},
   "source": [
    "+ __OLS__\n",
    "\n",
    "```python\n",
    "coef_ = [w_1_1, w_1_2, ..., w_1_48],  # weights of model 1\n",
    "        ...\n",
    "        [w_51_1, ..., w_51_48]        # weights of model 51\n",
    "```\n",
    "For interpretability and general insight we aggregate the feature importances across all outputs by taking the mean (abs to avoid negative weights to cancel out).\n",
    "\n",
    "(inspired by [source](https://sourcebae.com/blog/how-to-get-coefficients-and-feature-importances-from-multioutputregressor/) and Tp5)"
   ]
  },
  {
   "cell_type": "code",
   "execution_count": 15,
   "id": "bdd88453",
   "metadata": {},
   "outputs": [
    {
     "data": {
      "image/png": "[encoded data removed]",
      "text/plain": [
       "<Figure size 1200x500 with 1 Axes>"
      ]
     },
     "metadata": {},
     "output_type": "display_data"
    }
   ],
   "source": [
    "# OLS\n",
    "ols_reg = LinearRegression(n_jobs=-1)\n",
    "ols_reg_pipe = make_pipeline(StandardScaler(), ols_reg)\n",
    "ols_reg_pipe.fit(X_g_train_preproc, y_g_train_preproc)\n",
    "\n",
    "aggr_coef = np.mean(np.abs(ols_reg.coef_), axis=0) # average on columns\n",
    "ols_sorted_idx = np.argsort(aggr_coef)[::-1] # descending order\n",
    "column_names = X_g_train_preproc.columns\n",
    "\n",
    "plt.figure(figsize=(12, 5))\n",
    "plt.bar(range(len(aggr_coef)), aggr_coef[ols_sorted_idx], align='center')\n",
    "plt.xticks(range(len(aggr_coef)), column_names[ols_sorted_idx], rotation=45)\n",
    "plt.xlabel(\"weights associated features \")\n",
    "plt.ylabel(\"aggregated |coef|\")\n",
    "plt.title(\"OLS aggregated feature weights\")\n",
    "plt.tight_layout()\n",
    "plt.show()"
   ]
  },
  {
   "cell_type": "markdown",
   "id": "d5de0e79",
   "metadata": {},
   "source": [
    "+ __Random forest__\n",
    "\n",
    "TODO: explanations [src](https://scikit-learn.org/stable/auto_examples/ensemble/plot_forest_importances.html?utm_source=chatgpt.com)\n",
    "\n",
    "\n",
    "<!-- \n",
    "Native multi‑output trees in scikit‑learn (e.g. DecisionTreeRegressor, RandomForestRegressor) treat the target Y as an (n samples,n outputs) array and, at each split, compute the impurity decrease as the sum of variances (for regression) across all outputs.\n",
    "\n",
    "During fitting, each tree accumulates, for every feature, how much splitting on that feature reduces the total (sum‑of‑variance) impurity across all outputs\n",
    "\n",
    "feature_importances_ is then the average, over all trees, of those total impurity‑reduction scores—one single importance per input feature that reflects its contribution jointly to all outputs.\n",
    "\n",
    "Interpretation: A higher importance means “this feature, when used in splits, reduced the overall error summed over all 51 targets more than other features.\n",
    " -->"
   ]
  },
  {
   "cell_type": "code",
   "execution_count": 16,
   "id": "bb930d76",
   "metadata": {},
   "outputs": [
    {
     "data": {
      "image/png": "[encoded data removed]",
      "text/plain": [
       "<Figure size 1200x500 with 1 Axes>"
      ]
     },
     "metadata": {},
     "output_type": "display_data"
    }
   ],
   "source": [
    "rf = RandomForestRegressor(random_state=0, n_jobs=-1)\n",
    "rf.fit(X_g_train_preproc, y_g_train_preproc)\n",
    "rf_feat_imp = rf.feature_importances_\n",
    "rf_sorted_idx = np.argsort(rf_feat_imp)[::-1] # descending order\n",
    "\n",
    "column_names = X_g_train_preproc.columns\n",
    "\n",
    "plt.figure(figsize=(12, 5))\n",
    "plt.bar(range(len(rf_feat_imp)), rf_feat_imp[rf_sorted_idx], align='center')\n",
    "plt.xticks(range(len(rf_feat_imp)), column_names[rf_sorted_idx], rotation=45)\n",
    "plt.xlabel(\"features\")\n",
    "plt.ylabel(\"importance\")\n",
    "plt.title(\"Random Forest feature importances\")\n",
    "plt.tight_layout()\n",
    "plt.show()"
   ]
  },
  {
   "cell_type": "markdown",
   "id": "65a1c2fa",
   "metadata": {},
   "source": [
    "#### 3) Feature selection\n",
    "\n",
    "We experiment feature selection on baseline models with 2 different feature selection strategies () through a cross validated pipeline to avoid **data leakage** and thus optimistic results.\n",
    "\n",
    "- If done separately, feature selection has peeked / used validation set information to perfrom the selection, the model is then trained on data that was modified having validation set informations !\n",
    "\n",
    "**note**: We dont do hyper parametre tuning yet (in the same time), the goal is to find the best (model + feature selection strategy) combination as a baseline. We will do light tuning on the final best baseline pipeline to have a less trivial benchmark. Even if hyperparametres logically can interact with feature selection, it is a trade off we accept (for simplicity), if we had to handle it, it would be done with nested cv to again avoid leakage. **TODO**: explain why leakage avoided"
   ]
  },
  {
   "cell_type": "markdown",
   "id": "c7f959b2",
   "metadata": {},
   "source": [
    "__PCA__"
   ]
  },
  {
   "cell_type": "code",
   "execution_count": 53,
   "id": "e2b7eafc",
   "metadata": {},
   "outputs": [],
   "source": [
    "\"\"\"\n",
    "cv_results = \n",
    "    [\n",
    "        [fold1_1c, fold2_1c, ... fold5_1c],\n",
    "        [fold1_2c, fold2_2c, ... fold5_2c],\n",
    "        ...\n",
    "        [fold1_48c, fold2_48c, ... fold5_48c],\n",
    "    ]\n",
    "\"\"\"\n",
    "\n",
    "n_features = X_g_train_preproc.shape[1]\n",
    "\n",
    "def pca_loop_feat_selec(model):\n",
    "    CV_err = np.zeros((n_features,n_sessions)) # (48, 5)\n",
    "    for fold, (train_index, test_index) in enumerate(logo.split(X_g_train_preproc, y_g_train_preproc, groups=groups)):\n",
    "        X_tr, X_ts = X_g_train_preproc.iloc[train_index], X_g_train_preproc.iloc[test_index]\n",
    "        y_tr, y_ts = y_g_train_preproc[train_index], y_g_train_preproc[test_index]\n",
    "        \n",
    "        # fold independant PCA - no leaking\n",
    "        pca = PCA(random_state=0)\n",
    "        X_tr_pca = pca.fit_transform(X_tr)\n",
    "        X_ts_pca = pca.transform(X_ts) # !! transform with fitted params on X_tr !!\n",
    "        for k in range(n_features):\n",
    "            model.fit(X_tr_pca[:, :k+1], y_tr) # train on k-best components\n",
    "            y_hat = model.predict(X_ts_pca[:, :k+1])\n",
    "            CV_err[k, fold] = rmse(y_hat, y_ts)\n",
    "\n",
    "    best_n_components = 0\n",
    "    best_cv_rmse = 100\n",
    "    for k in range(n_features):\n",
    "        cv_rmse = np.mean(CV_err[k])\n",
    "        if cv_rmse < best_cv_rmse:\n",
    "            best_n_components = k\n",
    "            best_cv_rmse = cv_rmse\n",
    "    \n",
    "    return best_n_components, best_cv_rmse\n",
    "\n",
    "def pca_grid_feat_selec(model, scorer=rmse_scorer):\n",
    "    pipe = make_pipeline(\n",
    "        PCA(),\n",
    "        model\n",
    "    )\n",
    "\n",
    "    param_grid = {'pca__n_components': [i for i in range(1, n_features+1)]}\n",
    "\n",
    "    grid = GridSearchCV(pipe, param_grid, cv=logo, scoring=scorer, n_jobs=-1)\n",
    "    grid.fit(X_g_train_preproc, y_g_train_preproc, groups=groups)\n",
    "\n",
    "    best_n_components = grid.best_params_['pca__n_components']\n",
    "    best_cv_rmse = -grid.best_score_\n",
    "    \n",
    "    return best_n_components, best_cv_rmse"
   ]
  },
  {
   "cell_type": "code",
   "execution_count": 19,
   "id": "ef9cd540",
   "metadata": {},
   "outputs": [
    {
     "name": "stdout",
     "output_type": "stream",
     "text": [
      "[dummy_mean] Optimal #components = 1 with cv rmse = 14.259043408011632\n",
      "[OLS] Optimal #components = 48 with cv rmse = 7.248052301242538\n",
      "[random_forest] Optimal #components = 26 with cv rmse = 5.450713485816227\n"
     ]
    }
   ],
   "source": [
    "for name, model in baselines.items():\n",
    "    best_n_components, best_cv_rmse = pca_grid_feat_selec(model)\n",
    "    # best_n_components, best_cv_rmse = pca_loop_feat_selec(model)\n",
    "\n",
    "    print(f\"[{name}] Optimal #components = {best_n_components} with cv rmse = {best_cv_rmse}\")"
   ]
  },
  {
   "cell_type": "markdown",
   "id": "a7f5cb1d",
   "metadata": {},
   "source": [
    "__Embedded__"
   ]
  },
  {
   "cell_type": "code",
   "execution_count": 65,
   "id": "9f81398c",
   "metadata": {},
   "outputs": [],
   "source": [
    "def embeded_grid_feat_selec(model, scorer=rmse_scorer):\n",
    "    pipe = Pipeline([\n",
    "        # use same model for predict and importances (both have coefs_ or feature_importances_ so it works)\n",
    "        # set threshold to 0, set to mean by default (we want 'pure' feature selection).\n",
    "        ('select', SelectFromModel(model, threshold=0)),\n",
    "        ('model', model)\n",
    "    ])\n",
    "\n",
    "    # param_grid = {'selectfrommodel__max_features': [i for i in range(1, n_features+1)]}\n",
    "    param_grid = {'select__max_features': [i for i in range(1, n_features+1)]}\n",
    "\n",
    "    grid = GridSearchCV(pipe, param_grid, cv=logo, scoring=scorer, n_jobs=-1)\n",
    "    grid.fit(X_g_train_preproc, y_g_train_preproc, groups=groups)\n",
    "\n",
    "    best_n_features = grid.best_params_['select__max_features']\n",
    "    best_cv_rmse = -grid.best_score_\n",
    "    \n",
    "    return best_n_features, best_cv_rmse"
   ]
  },
  {
   "cell_type": "code",
   "execution_count": 66,
   "id": "4c63ee9b",
   "metadata": {},
   "outputs": [
    {
     "name": "stdout",
     "output_type": "stream",
     "text": [
      "[OLS] Optimal #features = 48 with cv rmse = 7.248052301254961\n",
      "[random_forest] Optimal #features = 34 with cv rmse = 4.960515907891919\n"
     ]
    }
   ],
   "source": [
    "for name, model in baselines.items():\n",
    "    best_n_features, best_cv_rmse = embeded_grid_feat_selec(model)\n",
    "    \n",
    "    print(f\"[{name}] Optimal #features = {best_n_features} with cv rmse = {best_cv_rmse}\")"
   ]
  },
  {
   "cell_type": "markdown",
   "id": "543eebf3",
   "metadata": {},
   "source": [
    "#### 4) Final baseline\n",
    "\n",
    "(slight tuning)"
   ]
  },
  {
   "cell_type": "code",
   "execution_count": 68,
   "id": "d0ef6250",
   "metadata": {},
   "outputs": [],
   "source": [
    "base_baseline = RandomForestRegressor(n_jobs=-1, random_state=0, n_estimators=10)\n",
    "best_baseline_pipe = make_pipeline(\n",
    "    FeatureExtractor(),\n",
    "    SelectFromModel(base_baseline, threshold=0, max_features=34),\n",
    "    base_baseline\n",
    ")\n",
    "\n",
    "# # train on windowed data since pipeline must contain Feature extractore to predict not preprocessed X_g_tets, since X_g_train_preproc already preprocessed \n",
    "# best_baseline_pipe.fit(X_g_train_wdw, y_g_train_preproc)\n",
    "# best_baseline_pipe.predict(X_g_test)"
   ]
  },
  {
   "cell_type": "markdown",
   "id": "ee15d3e9",
   "metadata": {},
   "source": [
    "___\n",
    "\n",
    "## More complex approaches"
   ]
  }
 ],
 "metadata": {
  "kernelspec": {
   "display_name": "sfml",
   "language": "python",
   "name": "python3"
  },
  "language_info": {
   "codemirror_mode": {
    "name": "ipython",
    "version": 3
   },
   "file_extension": ".py",
   "mimetype": "text/x-python",
   "name": "python",
   "nbconvert_exporter": "python",
   "pygments_lexer": "ipython3",
   "version": "3.12.9"
  }
 },
 "nbformat": 4,
 "nbformat_minor": 5
}
