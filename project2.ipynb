{
 "cells": [
  {
   "cell_type": "markdown",
   "id": "49ceb2ca",
   "metadata": {},
   "source": [
    "## Imports"
   ]
  },
  {
   "cell_type": "code",
   "execution_count": 56,
   "id": "114e0eb1",
   "metadata": {},
   "outputs": [],
   "source": [
    "# models\n",
    "from sklearn.linear_model import Ridge, Lasso, ElasticNet, LinearRegression\n",
    "from sklearn.tree import DecisionTreeRegressor\n",
    "from sklearn.ensemble import RandomForestRegressor\n",
    "from sklearn.neighbors import KNeighborsRegressor\n",
    "\n",
    "# model selection\n",
    "from sklearn.model_selection import LeaveOneGroupOut, cross_val_score, RandomizedSearchCV\n",
    "from sklearn.metrics import make_scorer, mean_squared_error\n",
    "from sklearn.decomposition import PCA\n",
    "\n",
    "# preprocessing\n",
    "from sklearn.base import BaseEstimator, TransformerMixin\n",
    "from sklearn.pipeline import Pipeline, make_pipeline\n",
    "from sklearn.preprocessing import StandardScaler\n",
    "\n",
    "# utils\n",
    "import pandas as pd\n",
    "import numpy as np\n",
    "import matplotlib.pyplot as plt\n",
    "import seaborn as sns\n",
    "from enum import Enum"
   ]
  },
  {
   "cell_type": "markdown",
   "id": "0f719d13",
   "metadata": {},
   "source": [
    "## Data loading"
   ]
  },
  {
   "cell_type": "code",
   "execution_count": 2,
   "id": "15cf5833",
   "metadata": {},
   "outputs": [],
   "source": [
    "data_dir = \"data\"\n",
    "\n",
    "X_g_train = np.load(f\"{data_dir}/guided/guided_dataset_X.npy\")\n",
    "y_g_train = np.load(f\"{data_dir}/guided/guided_dataset_y.npy\")\n",
    "X_g_test = np.load(f\"{data_dir}/guided/guided_testset_X.npy\")\n",
    "\n",
    "X_f_train = np.load(f\"{data_dir}/freemoves/freemoves_dataset_X.npy\")\n",
    "y_f_train = np.load(f\"{data_dir}/freemoves/freemoves_dataset_y.npy\")\n",
    "X_f_test = np.load(f\"{data_dir}/freemoves/freemoves_testset_X.npy\")\n"
   ]
  },
  {
   "cell_type": "code",
   "execution_count": 3,
   "id": "1b8272a9",
   "metadata": {},
   "outputs": [
    {
     "name": "stdout",
     "output_type": "stream",
     "text": [
      "Guided:\n",
      "X_g_train (5, 8, 230000) / y_g_train(5, 51, 230000) / X_g_test(5, 332, 8, 500)\n",
      "\n",
      "Free moves:\n",
      "X_f_train(5, 8, 270000) / y_f_train(5, 51, 270000) / X_f_test(5, 308, 8, 500)\n"
     ]
    }
   ],
   "source": [
    "print(\"Guided:\")\n",
    "print(f\"X_g_train {X_g_train.shape} / y_g_train{y_g_train.shape} / X_g_test{X_g_test.shape}\\n\")\n",
    "print(\"Free moves:\")\n",
    "print(f\"X_f_train{X_f_train.shape} / y_f_train{y_f_train.shape} / X_f_test{X_f_test.shape}\")"
   ]
  },
  {
   "cell_type": "markdown",
   "id": "4e5c5584",
   "metadata": {},
   "source": [
    "## Data preparation"
   ]
  },
  {
   "cell_type": "code",
   "execution_count": 4,
   "id": "1107294d",
   "metadata": {},
   "outputs": [],
   "source": [
    "class FeatureWindowAugment(BaseEstimator, TransformerMixin):\n",
    "    \"\"\"\n",
    "    + Augment X through overlapping windows\n",
    "    \"\"\"\n",
    "    \n",
    "    def __init__(self, window_size=500, overlap=0.5):\n",
    "        self.window_size = window_size\n",
    "        self.overlap = overlap\n",
    "    \n",
    "    def fit(self, X, y=None):\n",
    "        return self\n",
    "    \n",
    "    def transform(self, X, y=None):\n",
    "        axis = 2 # time\n",
    "        step = int(self.window_size * (1 - self.overlap))\n",
    "        \n",
    "        # sliding_windows_view Generate all possible windows with the corresponding step, that not what we want.\n",
    "        X_windows = np.lib.stride_tricks.sliding_window_view(X,self.window_size, axis)\n",
    "\n",
    "        # only keep windows where the step is a multiple of our step \n",
    "        X_windows = X_windows[:,:,::step,:]\n",
    "         \n",
    "        # (session, electrode, window, time) to (session, window, electrode, time)\n",
    "        X_windows = X_windows.transpose(0, 2, 1, 3) \n",
    "        \n",
    "        return X_windows   "
   ]
  },
  {
   "cell_type": "code",
   "execution_count": 5,
   "id": "eb29439f",
   "metadata": {},
   "outputs": [],
   "source": [
    "class TargetStrategy(Enum):\n",
    "    \"\"\"\n",
    "    strategy to select the target (unique hand pose) from a window\n",
    "    \"\"\"\n",
    "    \n",
    "    MEAN = 0\n",
    "    FIRST = 1\n",
    "    LAST = 2\n",
    "    MEDIAN = 3\n",
    "    \n",
    "class WindowTargetExtractor(BaseEstimator, TransformerMixin):\n",
    "    \"\"\"\n",
    "    + augment y through overlapping windows \n",
    "    + extract the target, i.e. unique hand pose (51 val) of the correspondoing window (500 'samples')\n",
    "    \"\"\"\n",
    "    \n",
    "    def __init__(self, window_size=500, overlap=0.5, target_strat=TargetStrategy.LAST):\n",
    "        self.window_size = window_size\n",
    "        self.overlap = overlap\n",
    "        self.target_strat = target_strat\n",
    "    \n",
    "    def fit(self, X, y=None):\n",
    "        return self\n",
    "    \n",
    "    def transform(self, y):\n",
    "        axis = 2 # time\n",
    "        step = int(self.window_size * (1 - self.overlap))\n",
    "        \n",
    "        # ----- window augment -----\n",
    "        \n",
    "        # sliding_windows_view Generate all possible windows with the corresponding step, that not what we want.\n",
    "        y_windows = np.lib.stride_tricks.sliding_window_view(y,self.window_size, axis)\n",
    "\n",
    "        # only keep windows where the step is a multiple of our step \n",
    "        y_windows = y_windows[:,:,::step,:]\n",
    "         \n",
    "        # (session, angles, window, time) to (session, window, angles, time)\n",
    "        y_windows = y_windows.transpose(0, 2, 1, 3)     \n",
    "        \n",
    "        # ----- target extract -----\n",
    "\n",
    "        match self.target_strat:\n",
    "            case TargetStrategy.LAST:\n",
    "                y_windows = y_windows[:, :, :, -1]\n",
    "            case TargetStrategy.FIRST:\n",
    "                y_windows = y_windows[:, :, :, 0]\n",
    "            case TargetStrategy.MEAN:\n",
    "                y_windows = np.mean(y_windows, axis=3)\n",
    "            case TargetStrategy.MEDIAN:\n",
    "                y_windows = np.median(y_windows, axis=3)\n",
    "            case _:\n",
    "                raise ValueError(f\"Unknown TargetStrategy enum value\")\n",
    "        \n",
    "        return y_windows"
   ]
  },
  {
   "cell_type": "markdown",
   "id": "63b93a3c",
   "metadata": {},
   "source": [
    "Windowed data"
   ]
  },
  {
   "cell_type": "code",
   "execution_count": 6,
   "id": "3b67f295",
   "metadata": {},
   "outputs": [
    {
     "name": "stdout",
     "output_type": "stream",
     "text": [
      "Guided windowed:\n",
      "X_g_train_wdw (5, 919, 8, 500) / X_g_test (5, 332, 8, 500)\n",
      "y_g_train_wdw(5, 919, 51)\n"
     ]
    }
   ],
   "source": [
    "X_g_train_wdw = FeatureWindowAugment().transform(X_g_train)\n",
    "y_g_train_wdw = WindowTargetExtractor().transform(y_g_train)\n",
    "\n",
    "print(\"Guided windowed:\")\n",
    "print(f\"X_g_train_wdw {X_g_train_wdw.shape} / X_g_test {X_g_test.shape}\")\n",
    "print(f\"y_g_train_wdw{y_g_train_wdw.shape}\")"
   ]
  },
  {
   "cell_type": "markdown",
   "id": "b8330a16",
   "metadata": {},
   "source": [
    "## Common time features extraction\n",
    "\n",
    "extract features from X set windows\n",
    "+ Mean Absolute Value (MAV)\n",
    "+ Root Mean Square (RMS)\n",
    "+ Variance (VAR)\n",
    "+ Standard Deviation (STD)\n",
    "+ Zero Crossing (ZC)\n",
    "+ Myopulse Percentage Rate (MPR)"
   ]
  },
  {
   "cell_type": "code",
   "execution_count": 7,
   "id": "d617480d",
   "metadata": {},
   "outputs": [],
   "source": [
    "class FeatureExtractor(BaseEstimator, TransformerMixin):\n",
    "    \"\"\"\n",
    "    Extracts common time-domain features, from numpy arrays into a dataframe (readability)\n",
    "    \"\"\"\n",
    "\n",
    "    def __init__(self, mpr_threshold=0.5):\n",
    "        self.mpr_threshold = mpr_threshold\n",
    "\n",
    "    def fit(self, X, y=None):\n",
    "        return self\n",
    "\n",
    "    def transform(self, X, y=None):        \n",
    "        # --- Feature extraction ---\n",
    "        feature_names = ['MAV', 'RMS', 'VAR', 'STD', 'ZC', 'MPR']\n",
    "        n_features = len(feature_names)\n",
    "        \n",
    "        n_sessions, n_windows, n_electrodes, n_times = X.shape\n",
    "        features = np.zeros((n_sessions * n_windows, n_electrodes * n_features))\n",
    "        \n",
    "        for s in range(n_sessions):\n",
    "            for w in range(n_windows):\n",
    "                i = s*n_windows + w # index in flattened contiguous windows samples 'form'\n",
    "                wdw_features = []\n",
    "                for e in range(n_electrodes):\n",
    "                    signal = X[s, w, e, :] # window signal\n",
    "                    \n",
    "                    mav = np.mean(np.abs(signal))\n",
    "                    rms = np.sqrt(np.mean(signal**2))\n",
    "                    var = np.var(signal)\n",
    "                    std = np.std(signal)\n",
    "                    zc = np.sum(np.diff(np.signbit(signal)).astype(int))\n",
    "                    mpr = np.mean(np.abs(signal) > self.mpr_threshold)    \n",
    "                    wdw_features.extend([mav, rms, var, std, zc, mpr])\n",
    "                \n",
    "                features[i, :] = wdw_features\n",
    "        \n",
    "        # # --- to Dataframe ---            \n",
    "        # column_names = [f\"elec{e}_{name}\" for e in range(n_electrodes) for name in feature_names]\n",
    "        # df = pd.DataFrame(features, columns=column_names)\n",
    "        \n",
    "        return features"
   ]
  },
  {
   "cell_type": "code",
   "execution_count": 8,
   "id": "23e72a8f",
   "metadata": {},
   "outputs": [],
   "source": [
    "class TargetFlattener(BaseEstimator, TransformerMixin):\n",
    "    \"\"\"\n",
    "    Flatten feature set for sklearn usability\n",
    "    \"\"\"\n",
    "\n",
    "    def fit(self, y, X=None):\n",
    "        return self\n",
    "\n",
    "    def transform(self, y, X=None):      \n",
    "        \n",
    "        # -- Reshape --\n",
    "        n_sessions, n_windows, n_angles = y.shape\n",
    "        \n",
    "        # Reshape to (sessions*windows, angles)\n",
    "        y_flat = y.reshape(n_sessions * n_windows, n_angles)\n",
    "        \n",
    "        # n_vals = 3 # 3 'values' per joint angle\n",
    "        # column_names = [f\"angle{i}_{k}\" for i in range(0, n_angles, n_vals) for k in range(n_vals)]\n",
    "        \n",
    "        # df = pd.DataFrame(y_flat, columns=column_names)\n",
    "        \n",
    "        return y_flat"
   ]
  },
  {
   "cell_type": "markdown",
   "id": "88181231",
   "metadata": {},
   "source": [
    "Preprocessed data "
   ]
  },
  {
   "cell_type": "code",
   "execution_count": 9,
   "id": "46e46c92",
   "metadata": {},
   "outputs": [
    {
     "name": "stdout",
     "output_type": "stream",
     "text": [
      "Guided preprocessed:\n",
      "X_g_train_preproc (4595, 48) / X_g_test (5, 332, 8, 500)\n",
      "y_g_train_preproc(4595, 51)\n"
     ]
    }
   ],
   "source": [
    "X_g_train_preproc = FeatureExtractor().transform(X_g_train_wdw)\n",
    "y_g_train_preproc = TargetFlattener().transform(y_g_train_wdw)\n",
    "\n",
    "print(\"Guided preprocessed:\")\n",
    "print(f\"X_g_train_preproc {X_g_train_preproc.shape} / X_g_test {X_g_test.shape}\")\n",
    "print(f\"y_g_train_preproc{y_g_train_preproc.shape}\")"
   ]
  },
  {
   "cell_type": "markdown",
   "id": "9851d74b",
   "metadata": {},
   "source": [
    "## Cross validation\n",
    "\n",
    "strategy: session based Leave One Group Out\n",
    "\n",
    "+ no **window overlap leakage**\n",
    "+ avoids **session bias**: signal drift, sensors placements, ... "
   ]
  },
  {
   "cell_type": "code",
   "execution_count": null,
   "id": "1e2944b6",
   "metadata": {},
   "outputs": [],
   "source": [
    "n_sessions, n_windows, n_electrodes, n_times = X_g_train_wdw.shape\n",
    "groups = np.repeat(np.arange(1,n_sessions+1), n_windows) # [1 ... 1], [2 ... 2], ..., [5 ...5] each group of lenght n_windows\n",
    "\n",
    "# loss functions\n",
    "def mse(y_true, y_hat):\n",
    "    return np.mean((y_true-y_hat)**2)\n",
    "def rmse(y_true, y_hat):\n",
    "    return np.sqrt(np.mean((y_true-y_hat)**2))\n",
    "def nmse(y_true, y_hat):\n",
    "    return np.mean((y_true-y_hat)**2)/np.std(y_true)**2\n",
    "\n",
    "# scorers\n",
    "rmse_scorer = make_scorer(rmse, greater_is_better=False)\n",
    "nmse_scorer = make_scorer(nmse, greater_is_better=False)\n",
    "\n",
    "# cv function \n",
    "logo = LeaveOneGroupOut()\n",
    "def logo_cv(X, y, model, scorer=rmse_scorer):\n",
    "    cv_scores = cross_val_score(model, X, y, groups=groups, cv=logo, scoring=scorer, n_jobs=-1)\n",
    "    return np.mean(-cv_scores)\n",
    "\n",
    "def _logo_cv(X, y, model):\n",
    "    cv_nmse = []\n",
    "    cv_rmse = []\n",
    "    for train_index, test_index in logo.split(X, y, groups):\n",
    "        X_tr, X_ts = X[train_index], X[test_index]\n",
    "        y_tr, y_ts = y[train_index], y[test_index]\n",
    "        \n",
    "        model.fit(X_tr, y_tr)\n",
    "        y_hat = model.predict(X_ts)\n",
    "        cv_nmse.append(nmse(y_ts, y_hat))\n",
    "        cv_rmse.append(rmse(y_ts, y_hat))\n",
    "        \n",
    "    return (np.mean(cv_rmse), np.mean(cv_nmse))"
   ]
  },
  {
   "cell_type": "markdown",
   "id": "b0a28dcf",
   "metadata": {},
   "source": [
    "## Baseline\n",
    "\n",
    "we try multiple models from low to medium complexity of different families of models (tree, linear,...) to get an idea of a baseline cv score, model complexity impact (bias, variance) on data and model family preferences.\n",
    "\n",
    "+ To guide further model development strategically (no bruteforce - try all)\n",
    "+ simpel models, goal: give a cv 'upperbound' that any more complex models should beat otherwise not worth the complexity\n",
    "+ data-model fit, different model (families) make different data assumptions\n",
    "+ get early signals of what could work !\n"
   ]
  },
  {
   "cell_type": "code",
   "execution_count": 11,
   "id": "dbde0ae4",
   "metadata": {},
   "outputs": [
    {
     "data": {
      "text/html": [
       "<div>\n",
       "<style scoped>\n",
       "    .dataframe tbody tr th:only-of-type {\n",
       "        vertical-align: middle;\n",
       "    }\n",
       "\n",
       "    .dataframe tbody tr th {\n",
       "        vertical-align: top;\n",
       "    }\n",
       "\n",
       "    .dataframe thead th {\n",
       "        text-align: right;\n",
       "    }\n",
       "</style>\n",
       "<table border=\"1\" class=\"dataframe\">\n",
       "  <thead>\n",
       "    <tr style=\"text-align: right;\">\n",
       "      <th></th>\n",
       "      <th>RMSE</th>\n",
       "      <th>NMSE</th>\n",
       "    </tr>\n",
       "  </thead>\n",
       "  <tbody>\n",
       "    <tr>\n",
       "      <th>dummy_mean</th>\n",
       "      <td>14.259043</td>\n",
       "      <td>0.437812</td>\n",
       "    </tr>\n",
       "    <tr>\n",
       "      <th>Ridge</th>\n",
       "      <td>7.395048</td>\n",
       "      <td>0.118309</td>\n",
       "    </tr>\n",
       "    <tr>\n",
       "      <th>OLS</th>\n",
       "      <td>7.248052</td>\n",
       "      <td>0.113622</td>\n",
       "    </tr>\n",
       "    <tr>\n",
       "      <th>random_forest</th>\n",
       "      <td>5.094033</td>\n",
       "      <td>0.056900</td>\n",
       "    </tr>\n",
       "    <tr>\n",
       "      <th>decision_tree</th>\n",
       "      <td>7.086189</td>\n",
       "      <td>0.110000</td>\n",
       "    </tr>\n",
       "  </tbody>\n",
       "</table>\n",
       "</div>"
      ],
      "text/plain": [
       "                    RMSE      NMSE\n",
       "dummy_mean     14.259043  0.437812\n",
       "Ridge           7.395048  0.118309\n",
       "OLS             7.248052  0.113622\n",
       "random_forest   5.094033  0.056900\n",
       "decision_tree   7.086189  0.110000"
      ]
     },
     "execution_count": 11,
     "metadata": {},
     "output_type": "execute_result"
    }
   ],
   "source": [
    "cv_results_baselines = {}\n",
    "from sklearn.dummy import DummyRegressor\n",
    "baselines = {\n",
    "    'dummy_mean': DummyRegressor(strategy='mean'),\n",
    "    'Ridge': Ridge(),\n",
    "    \"OLS\": LinearRegression(),\n",
    "    'random_forest': RandomForestRegressor(random_state=0, n_jobs=-1, n_estimators=10),\n",
    "    'decision_tree': DecisionTreeRegressor(random_state=0)\n",
    "}\n",
    "\n",
    "for name, model in baselines.items():\n",
    "    cv_rmse, cv_nmse = _logo_cv(X_g_train_preproc, y_g_train_preproc, model)\n",
    "    cv_results_baselines[name] = {\"RMSE\": cv_rmse, \"NMSE\": cv_nmse}\n",
    "\n",
    "baselines_cv_df = pd.DataFrame(cv_results_baselines).T\n",
    "baselines_cv_df"
   ]
  },
  {
   "cell_type": "markdown",
   "id": "fa9eac9b",
   "metadata": {},
   "source": [
    "#### Baselines Tuning and observations"
   ]
  },
  {
   "cell_type": "code",
   "execution_count": 24,
   "id": "6f7e2917",
   "metadata": {},
   "outputs": [],
   "source": [
    "depths = [2, 5, 10, 20, None] # depth=None puts no limit on tree depth (until all leaves pure) \n",
    "\n",
    "dt_rmse_values = []\n",
    "dt_nmse_values = []\n",
    "for depth in depths:\n",
    "    dt_reg = DecisionTreeRegressor(random_state=0, max_depth=depth)\n",
    "    cv_rmse, cv_nmse = _logo_cv(X_g_train_preproc, y_g_train_preproc, dt_reg)\n",
    "    dt_rmse_values.append(cv_rmse)\n",
    "    dt_nmse_values.append(cv_nmse)\n"
   ]
  },
  {
   "cell_type": "code",
   "execution_count": 31,
   "id": "76f923ba",
   "metadata": {},
   "outputs": [
    {
     "data": {
      "image/png": "[encoded data removed]",
      "text/plain": [
       "<Figure size 1000x400 with 2 Axes>"
      ]
     },
     "metadata": {},
     "output_type": "display_data"
    }
   ],
   "source": [
    "# Create figure with two y-axes\n",
    "fig, ax1 = plt.subplots(figsize=(10, 4))\n",
    "ax2 = ax1.twinx()\n",
    "\n",
    "# Plot RMSE on left axis\n",
    "line1 = ax1.plot([str(d) for d in depths], dt_rmse_values, 'b-o', label='RMSE')\n",
    "ax1.set_xlabel('max_depth')\n",
    "ax1.set_ylabel('RMSE', color='b')\n",
    "ax1.tick_params(axis='y', labelcolor='b')\n",
    "\n",
    "# Plot NMSE on right axis\n",
    "line2 = ax2.plot([str(d) for d in depths], dt_nmse_values, 'r-o', label='NMSE')\n",
    "ax2.set_ylabel('NMSE', color='r')\n",
    "ax2.tick_params(axis='y', labelcolor='r')\n",
    "\n",
    "# Combine legends\n",
    "lines = line1 + line2\n",
    "labels = [l.get_label() for l in lines]\n",
    "ax1.legend(lines, labels, loc='best')\n",
    "\n",
    "plt.title('(Decision tree) RMSE and NMSE vs max_depth')\n",
    "plt.tight_layout()\n",
    "plt.show()"
   ]
  },
  {
   "cell_type": "code",
   "execution_count": 36,
   "id": "8a58e23b",
   "metadata": {},
   "outputs": [],
   "source": [
    "estimators_range = [10, 20, 50, 100]\n",
    "rf_rmse_values = []\n",
    "rf_nmse_values = []\n",
    "for n in estimators_range:\n",
    "    rf_reg = RandomForestRegressor(random_state=0, n_estimators=n, n_jobs=-1)\n",
    "    cv_rmse, cv_nmse = _logo_cv(X_g_train_preproc, y_g_train_preproc, rf_reg)\n",
    "    rf_rmse_values.append(cv_rmse)\n",
    "    rf_nmse_values.append(cv_nmse)"
   ]
  },
  {
   "cell_type": "code",
   "execution_count": 38,
   "id": "b1cef1be",
   "metadata": {},
   "outputs": [
    {
     "data": {
      "image/png": "[encoded data removed]",
      "text/plain": [
       "<Figure size 1000x400 with 2 Axes>"
      ]
     },
     "metadata": {},
     "output_type": "display_data"
    }
   ],
   "source": [
    "fig, ax1 = plt.subplots(figsize=(10, 4))\n",
    "ax2 = ax1.twinx()\n",
    "\n",
    "# Plot RMSE on left axis\n",
    "line1 = ax1.plot(estimators_range, rf_rmse_values, 'b-o', label='RMSE')\n",
    "ax1.set_xlabel('n_estimators')\n",
    "ax1.set_ylabel('RMSE', color='b')\n",
    "ax1.tick_params(axis='y', labelcolor='b')\n",
    "\n",
    "# Plot NMSE on right axis\n",
    "line2 = ax2.plot(estimators_range, rf_nmse_values, 'r-o', label='NMSE')\n",
    "ax2.set_ylabel('NMSE', color='r')\n",
    "ax2.tick_params(axis='y', labelcolor='r')\n",
    "\n",
    "# Combine legends\n",
    "lines = line1 + line2\n",
    "labels = [l.get_label() for l in lines]\n",
    "ax1.legend(lines, labels, loc='best')\n",
    "\n",
    "plt.title('(Random forest) RMSE and NMSE vs n_estimators')\n",
    "plt.tight_layout()\n",
    "plt.show()"
   ]
  },
  {
   "cell_type": "markdown",
   "id": "cd3db988",
   "metadata": {},
   "source": [
    "decision tree param search"
   ]
  },
  {
   "cell_type": "code",
   "execution_count": 68,
   "id": "07d0be09",
   "metadata": {},
   "outputs": [
    {
     "name": "stdout",
     "output_type": "stream",
     "text": [
      "Best Decision tree RMSE: 6.4147967074223615\n"
     ]
    }
   ],
   "source": [
    "param_grid = {\n",
    "    'max_depth': [None, 5, 10, 20],\n",
    "    'min_samples_split': [2, 5, 10],\n",
    "    'min_samples_leaf': [1, 2, 4],\n",
    "}\n",
    "\n",
    "# Using just 50 estimators for parameter search\n",
    "dt = DecisionTreeRegressor(random_state=0)\n",
    "dt_search = RandomizedSearchCV(dt, param_grid, n_iter=20, cv=logo, n_jobs=-1, random_state=0, scoring=rmse_scorer)\n",
    "dt_search.fit(X_g_train_preproc, y_g_train_preproc, groups=groups)\n",
    "\n",
    "# Use best parameters with more estimators for final model\n",
    "dt_best_params = dt_search.best_params_\n",
    "\n",
    "best_dt = DecisionTreeRegressor(\n",
    "    **dt_best_params,\n",
    "    random_state=0\n",
    ")\n",
    "\n",
    "print(f\"Best Decision tree RMSE: {-dt_search.best_score_}\")"
   ]
  },
  {
   "cell_type": "markdown",
   "id": "623444f3",
   "metadata": {},
   "source": [
    "random forest param search"
   ]
  },
  {
   "cell_type": "code",
   "execution_count": 66,
   "id": "7f6b88e0",
   "metadata": {},
   "outputs": [
    {
     "name": "stdout",
     "output_type": "stream",
     "text": [
      "Best Random forest RMSE: 4.8624931202641015\n"
     ]
    }
   ],
   "source": [
    "param_grid = {\n",
    "    'max_depth': [None, 10, 30],\n",
    "    'min_samples_split': [2, 5, 10],\n",
    "    'min_samples_leaf': [1, 2, 4],\n",
    "    'max_features': ['sqrt', 'log2', 0.5]\n",
    "}\n",
    "\n",
    "# Using just 50 estimators for parameter search\n",
    "rf = RandomForestRegressor(n_estimators=10, n_jobs=-1, random_state=0)\n",
    "rf_search = RandomizedSearchCV(rf, param_grid, n_iter=20, cv=logo, n_jobs=-1, random_state=0, scoring=rmse_scorer)\n",
    "rf_search.fit(X_g_train_preproc, y_g_train_preproc, groups=groups)\n",
    "\n",
    "# Use best parameters with more estimators for final model\n",
    "rf_best_params = rf_search.best_params_\n",
    "\n",
    "best_rf = RandomForestRegressor(\n",
    "    n_estimators=10, # TODO: more\n",
    "    **best_params,\n",
    "    n_jobs=-1, \n",
    "    random_state=0\n",
    ")\n",
    "print(f\"Best Random forest RMSE: {-rf_search.best_score_}\")\n"
   ]
  },
  {
   "cell_type": "markdown",
   "id": "dd750fab",
   "metadata": {},
   "source": [
    "Ridge/Lasso param search ?"
   ]
  },
  {
   "cell_type": "markdown",
   "id": "782993a0",
   "metadata": {},
   "source": [
    "#### Baselines feature importance"
   ]
  },
  {
   "cell_type": "code",
   "execution_count": 53,
   "id": "aff248f3",
   "metadata": {},
   "outputs": [
    {
     "data": {
      "text/plain": [
       "array([3.25818668e-02, 6.54471994e-03, 6.70558816e-02, 3.19047837e-03,\n",
       "       2.43512548e-04, 1.25878003e-04, 1.32884992e-01, 1.06514469e-02,\n",
       "       2.81225289e-02, 3.18639062e-03, 1.40270993e-04, 1.44549048e-04,\n",
       "       6.30430281e-02, 3.52199619e-04, 2.67842872e-04, 3.03292994e-03,\n",
       "       6.76979007e-04, 9.18653286e-05, 2.38064080e-01, 2.36138606e-03,\n",
       "       1.20556815e-03, 4.71853626e-03, 1.37932179e-03, 3.44351137e-04,\n",
       "       3.14112275e-02, 2.62965470e-02, 3.71238178e-04, 9.83411209e-04,\n",
       "       2.00931627e-03, 6.08779513e-04, 2.70984252e-03, 4.16311597e-04,\n",
       "       1.71353993e-03, 4.78136707e-04, 3.51812621e-04, 8.26581715e-05,\n",
       "       4.67632948e-03, 2.90923862e-01, 5.34158276e-04, 3.69626556e-03,\n",
       "       2.16553438e-03, 2.02666711e-04, 1.02423209e-02, 1.07453530e-02,\n",
       "       3.18770142e-03, 2.59628898e-04, 4.65022063e-03, 8.72534343e-04])"
      ]
     },
     "execution_count": 53,
     "metadata": {},
     "output_type": "execute_result"
    }
   ],
   "source": [
    "# name features --> numpy to dataset ? for readability\n",
    "best_dt.fit(X_g_train_preproc, y_g_train_preproc)\n",
    "best_dt.feature_importances_"
   ]
  },
  {
   "cell_type": "code",
   "execution_count": 52,
   "id": "bb930d76",
   "metadata": {},
   "outputs": [
    {
     "data": {
      "text/plain": [
       "array([0.01367497, 0.02392511, 0.03391511, 0.03239044, 0.00228294,\n",
       "       0.00244468, 0.06057745, 0.04634403, 0.02067511, 0.05736627,\n",
       "       0.00057263, 0.0003761 , 0.02347488, 0.00434588, 0.01427184,\n",
       "       0.02538963, 0.00248638, 0.00146103, 0.09631389, 0.03908436,\n",
       "       0.04599329, 0.05122139, 0.0011453 , 0.00096811, 0.06375306,\n",
       "       0.00628995, 0.00785559, 0.00389147, 0.00165931, 0.00123787,\n",
       "       0.00332309, 0.0009558 , 0.0016618 , 0.00183248, 0.00082101,\n",
       "       0.00077678, 0.06699905, 0.0691134 , 0.0605891 , 0.07419563,\n",
       "       0.00041529, 0.00076901, 0.01114525, 0.0023504 , 0.00546862,\n",
       "       0.00468001, 0.00554549, 0.00396969])"
      ]
     },
     "execution_count": 52,
     "metadata": {},
     "output_type": "execute_result"
    }
   ],
   "source": [
    "# name features --> numpy to dataset ? for readability\n",
    "best_rf.fit(X_g_train_preproc, y_g_train_preproc)\n",
    "best_rf.feature_importances_"
   ]
  },
  {
   "cell_type": "code",
   "execution_count": 54,
   "id": "bdd88453",
   "metadata": {},
   "outputs": [
    {
     "data": {
      "text/plain": [
       "array([[-1.21206878e-01,  2.21426627e+00,  5.07624528e-05, ...,\n",
       "        -9.09565053e-01, -2.32902380e-02,  2.02257342e+00],\n",
       "       [ 4.95813099e-02, -3.35737993e-01,  1.45101353e-05, ...,\n",
       "         3.28528239e-01,  1.19747032e-02, -2.01353841e+00],\n",
       "       [ 3.72438592e-01, -6.24607410e+00, -1.09021920e-04, ...,\n",
       "         2.70667745e+00,  7.43911615e-02, -7.58981164e+00],\n",
       "       ...,\n",
       "       [-3.49183156e-02, -3.47237592e-01,  7.56203592e-05, ...,\n",
       "        -2.34784997e-01, -8.42285155e-04, -2.55170576e+00],\n",
       "       [ 2.09936606e-02,  2.13793870e-01, -3.71913336e-05, ...,\n",
       "         1.15273524e-01,  9.06746921e-04,  1.48786985e+00],\n",
       "       [-9.36670871e-01, -9.17316248e+00,  1.91462609e-03, ...,\n",
       "        -5.96235710e+00, -2.70780321e-02, -6.57575968e+01]])"
      ]
     },
     "execution_count": 54,
     "metadata": {},
     "output_type": "execute_result"
    }
   ],
   "source": [
    "ols_reg = LinearRegression(n_jobs=-1)\n",
    "ols_reg.fit(X_g_train_preproc, y_g_train_preproc)\n",
    "ols_reg.coef_"
   ]
  },
  {
   "cell_type": "markdown",
   "id": "72aa86c3",
   "metadata": {},
   "source": [
    "multi output regression, so OLS coeffs has shape (n_target, n_features), each target (51 joint angles) has its own regression model with a weight associated to every feature (48)\n",
    "\n",
    "```python\n",
    "coef_ = np.array([\n",
    "    [w_1_1, w_1_2, ..., w_1_48],  # weights of angle 1 model\n",
    "    [w_2_1, w_2_2, ..., w_2_48],  # weights of angle 1 model\n",
    "    ...\n",
    "    [w_51_1, ..., w_51_48]        # weights of angle 1 model\n",
    "])\n",
    "```"
   ]
  },
  {
   "cell_type": "markdown",
   "id": "2d16be24",
   "metadata": {},
   "source": [
    "#### Baselines feature selection\n",
    "\n",
    "TODO: tp 5 methods\n",
    "+ correl\n",
    "+ wrapper\n",
    "+ PCA\n",
    "+ mRMR"
   ]
  },
  {
   "cell_type": "code",
   "execution_count": null,
   "id": "f160c763",
   "metadata": {},
   "outputs": [
    {
     "data": {
      "text/plain": [
       "np.float64(5.337954289507091)"
      ]
     },
     "execution_count": 69,
     "metadata": {},
     "output_type": "execute_result"
    }
   ],
   "source": [
    "pca = PCA()\n",
    "X_pca = pca.fit_transform(X_g_train_preproc)\n",
    "logo_cv(X_pca, y_g_train_preproc, best_rf, rmse_scorer)"
   ]
  },
  {
   "cell_type": "markdown",
   "id": "53ba3407",
   "metadata": {},
   "source": [
    "#### Best baseline"
   ]
  },
  {
   "cell_type": "code",
   "execution_count": null,
   "id": "8e7e24c6",
   "metadata": {},
   "outputs": [],
   "source": [
    "best_baseline_pipe = make_pipeline(\n",
    "    FeatureExtractor(),\n",
    "    # best feature selection,\n",
    "    # best_baseline_model\n",
    ")"
   ]
  },
  {
   "cell_type": "markdown",
   "id": "ee15d3e9",
   "metadata": {},
   "source": [
    "### More complex model"
   ]
  }
 ],
 "metadata": {
  "kernelspec": {
   "display_name": "sfml",
   "language": "python",
   "name": "python3"
  },
  "language_info": {
   "codemirror_mode": {
    "name": "ipython",
    "version": 3
   },
   "file_extension": ".py",
   "mimetype": "text/x-python",
   "name": "python",
   "nbconvert_exporter": "python",
   "pygments_lexer": "ipython3",
   "version": "3.12.9"
  }
 },
 "nbformat": 4,
 "nbformat_minor": 5
}
